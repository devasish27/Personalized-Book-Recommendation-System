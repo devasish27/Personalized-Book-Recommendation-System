{
 "cells": [
  {
   "cell_type": "code",
   "execution_count": 3,
   "id": "563cefa1",
   "metadata": {},
   "outputs": [
    {
     "name": "stderr",
     "output_type": "stream",
     "text": [
      "C:\\Users\\DEVASISH\\anaconda3\\lib\\site-packages\\pandas\\core\\computation\\expressions.py:21: UserWarning: Pandas requires version '2.8.4' or newer of 'numexpr' (version '2.7.3' currently installed).\n",
      "  from pandas.core.computation.check import NUMEXPR_INSTALLED\n",
      "C:\\Users\\DEVASISH\\anaconda3\\lib\\site-packages\\pandas\\core\\arrays\\masked.py:61: UserWarning: Pandas requires version '1.3.6' or newer of 'bottleneck' (version '1.3.2' currently installed).\n",
      "  from pandas.core import (\n"
     ]
    }
   ],
   "source": [
    "import pandas as pd\n",
    "import matplotlib.pyplot as plt\n",
    "import seaborn as sns"
   ]
  },
  {
   "cell_type": "code",
   "execution_count": 4,
   "id": "28a3dde4",
   "metadata": {},
   "outputs": [],
   "source": [
    "users = pd.read_csv(\"../data/Users.csv\", sep=\",\", encoding=\"latin-1\", on_bad_lines=\"skip\")\n",
    "books = pd.read_csv(\"../data/Books.csv\", sep=\",\", encoding=\"latin-1\", on_bad_lines=\"skip\", low_memory=False)\n",
    "ratings = pd.read_csv(\"../data/Ratings.csv\", sep=\",\", encoding=\"latin-1\", on_bad_lines=\"skip\")"
   ]
  },
  {
   "cell_type": "code",
   "execution_count": 3,
   "id": "8a1902eb",
   "metadata": {},
   "outputs": [
    {
     "name": "stdout",
     "output_type": "stream",
     "text": [
      "                      User-ID,Location,Age\n",
      "0                  1,\"nyc, new york, usa\",\n",
      "1       2,\"stockton, california, usa\",18.0\n",
      "2     3,\"moscow, yukon territory, russia\",\n",
      "3       4,\"porto, v.n.gaia, portugal\",17.0\n",
      "4  5,\"farnborough, hants, united kingdom\",\n"
     ]
    }
   ],
   "source": [
    "print(users.head())"
   ]
  },
  {
   "cell_type": "code",
   "execution_count": 4,
   "id": "87baa7d2",
   "metadata": {},
   "outputs": [
    {
     "name": "stdout",
     "output_type": "stream",
     "text": [
      "  ISBN,Book-Title,Book-Author,Year-Of-Publication,Publisher,Image-URL-S,Image-URL-M,Image-URL-L\n",
      "0  0195153448,Classical Mythology,Mark P. O. Morf...                                           \n",
      "1  0002005018,Clara Callan,Richard Bruce Wright,2...                                           \n",
      "2  0060973129,Decision in Normandy,Carlo D'Este,1...                                           \n",
      "3  0374157065,Flu: The Story of the Great Influen...                                           \n",
      "4  0399135782,The Kitchen God's Wife,Amy Tan,1991...                                           \n"
     ]
    }
   ],
   "source": [
    "print(books.head())"
   ]
  },
  {
   "cell_type": "code",
   "execution_count": 5,
   "id": "2a62edbf",
   "metadata": {},
   "outputs": [
    {
     "name": "stdout",
     "output_type": "stream",
     "text": [
      "  User-ID,ISBN,Book-Rating\n",
      "0      276725,034545104X,0\n",
      "1      276726,0155061224,5\n",
      "2      276727,0446520802,0\n",
      "3      276729,052165615X,3\n",
      "4      276729,0521795028,6\n"
     ]
    }
   ],
   "source": [
    "print(ratings.head())"
   ]
  },
  {
   "cell_type": "code",
   "execution_count": 5,
   "id": "06f77df2",
   "metadata": {},
   "outputs": [
    {
     "name": "stdout",
     "output_type": "stream",
     "text": [
      "Index(['User_ID', 'ISBN', 'Book_Rating'], dtype='object')\n"
     ]
    }
   ],
   "source": [
    "ratings = ratings.rename(columns={\n",
    "    \"User-ID\": \"User_ID\",\n",
    "    \"Book-Rating\": \"Book_Rating\"\n",
    "})\n",
    "\n",
    "print(ratings.columns)"
   ]
  },
  {
   "cell_type": "code",
   "execution_count": 27,
   "id": "db96d7d1",
   "metadata": {},
   "outputs": [
    {
     "data": {
      "image/png": "[encoded data removed]",
      "text/plain": [
       "<Figure size 432x288 with 1 Axes>"
      ]
     },
     "metadata": {
      "needs_background": "light"
     },
     "output_type": "display_data"
    }
   ],
   "source": [
    "sns.countplot(x=\"Book_Rating\", data=ratings)\n",
    "plt.title(\"Book Rating Distribution\")\n",
    "plt.show()"
   ]
  },
  {
   "cell_type": "code",
   "execution_count": 28,
   "id": "d2d0e6ce",
   "metadata": {},
   "outputs": [
    {
     "name": "stdout",
     "output_type": "stream",
     "text": [
      "Top rated books ISBNs: ['0971880107', '0316666343', '0385504209', '0060928336', '0312195516', '044023722X', '0679781587', '0142001740', '067976402X', '0671027360']\n"
     ]
    }
   ],
   "source": [
    "top_books = ratings[\"ISBN\"].value_counts().head(10)\n",
    "print(\"Top rated books ISBNs:\", top_books.index.tolist())"
   ]
  },
  {
   "cell_type": "code",
   "execution_count": 31,
   "id": "7673f782",
   "metadata": {},
   "outputs": [
    {
     "data": {
      "image/png": "[encoded data removed]",
      "text/plain": [
       "<Figure size 432x288 with 1 Axes>"
      ]
     },
     "metadata": {
      "needs_background": "light"
     },
     "output_type": "display_data"
    }
   ],
   "source": [
    "# Number of ratings per user\n",
    "ratings_per_user = ratings.groupby(\"User_ID\")[\"Book_Rating\"].count()\n",
    "sns.histplot(ratings_per_user, bins=30, kde=True)\n",
    "plt.title(\"Ratings per User\")\n",
    "plt.show()"
   ]
  },
  {
   "cell_type": "code",
   "execution_count": 36,
   "id": "c0b1d273",
   "metadata": {
    "scrolled": true
   },
   "outputs": [
    {
     "data": {
      "image/png": "[encoded data removed]",
      "text/plain": [
       "<Figure size 432x288 with 1 Axes>"
      ]
     },
     "metadata": {
      "needs_background": "light"
     },
     "output_type": "display_data"
    }
   ],
   "source": [
    "ratings_per_movie = ratings.groupby(\"ISBN\")[\"Book_Rating\"].count()\n",
    "sns.histplot(ratings_per_movie, bins=30, kde=True)\n",
    "plt.title(\"Ratings per Movie\")\n",
    "plt.show()"
   ]
  },
  {
   "cell_type": "code",
   "execution_count": 6,
   "id": "6ca5cb6d",
   "metadata": {},
   "outputs": [],
   "source": [
    "# Save cleaned dataset\n",
    "ratings = ratings.dropna()\n",
    "ratings.to_csv(\"../data/ratings_clean.csv\", index=False)"
   ]
  },
  {
   "cell_type": "code",
   "execution_count": 7,
   "id": "747dfc64",
   "metadata": {},
   "outputs": [
    {
     "name": "stdout",
     "output_type": "stream",
     "text": [
      "Index(['User-ID', 'ISBN', 'Book-Rating'], dtype='object')\n"
     ]
    }
   ],
   "source": [
    "import pandas as pd\n",
    "\n",
    "users = pd.read_csv(\"../data/Users.csv\", sep=\";\", encoding=\"latin-1\", on_bad_lines=\"skip\")\n",
    "ratings = pd.read_csv(\"../data/Ratings.csv\", sep=\",\", encoding=\"latin-1\", on_bad_lines=\"skip\")\n",
    "print(ratings.columns)"
   ]
  },
  {
   "cell_type": "code",
   "execution_count": 8,
   "id": "01b7d764",
   "metadata": {},
   "outputs": [
    {
     "name": "stdout",
     "output_type": "stream",
     "text": [
      "User-ID\n",
      "11676     13602\n",
      "198711     7550\n",
      "153662     6109\n",
      "98391      5891\n",
      "35859      5850\n",
      "212898     4785\n",
      "278418     4533\n",
      "76352      3367\n",
      "110973     3100\n",
      "235105     3067\n",
      "Name: count, dtype: int64\n"
     ]
    }
   ],
   "source": [
    "# Get active users (those with >20 ratings, for example)\n",
    "active_users = ratings['User-ID'].value_counts()\n",
    "print(active_users.head(10))"
   ]
  },
  {
   "cell_type": "code",
   "execution_count": 9,
   "id": "8b14a6ae",
   "metadata": {},
   "outputs": [
    {
     "name": "stdout",
     "output_type": "stream",
     "text": [
      "105283 unique users\n",
      "0    276725\n",
      "1    276726\n",
      "2    276727\n",
      "3    276729\n",
      "4    276729\n",
      "Name: User-ID, dtype: int64\n"
     ]
    }
   ],
   "source": [
    "print(ratings['User-ID'].nunique(), \"unique users\")\n",
    "print(ratings['User-ID'].head())"
   ]
  },
  {
   "cell_type": "code",
   "execution_count": null,
   "id": "806df403",
   "metadata": {},
   "outputs": [],
   "source": []
  }
 ],
 "metadata": {
  "kernelspec": {
   "display_name": "Python 3 (ipykernel)",
   "language": "python",
   "name": "python3"
  },
  "language_info": {
   "codemirror_mode": {
    "name": "ipython",
    "version": 3
   },
   "file_extension": ".py",
   "mimetype": "text/x-python",
   "name": "python",
   "nbconvert_exporter": "python",
   "pygments_lexer": "ipython3",
   "version": "3.9.7"
  }
 },
 "nbformat": 4,
 "nbformat_minor": 5
}

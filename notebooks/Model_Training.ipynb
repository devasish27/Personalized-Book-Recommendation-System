{
 "cells": [
  {
   "cell_type": "code",
   "execution_count": 12,
   "id": "23599613",
   "metadata": {},
   "outputs": [],
   "source": [
    "import pandas as pd\n",
    "import numpy as np\n",
    "import matplotlib.pyplot as plt\n",
    "import seaborn as sns\n",
    "\n",
    "from sklearn.model_selection import train_test_split\n",
    "import tensorflow as tf\n",
    "from tensorflow import keras\n",
    "from tensorflow.keras import layers"
   ]
  },
  {
   "cell_type": "code",
   "execution_count": 13,
   "id": "141362b3",
   "metadata": {},
   "outputs": [
    {
     "name": "stdout",
     "output_type": "stream",
     "text": [
      "Users shape: (278698, 1)\n",
      "Books shape: (249936, 1)\n",
      "Ratings shape: (1149780, 1)\n",
      "  User-ID,ISBN,Book-Rating\n",
      "0      276725,034545104X,0\n",
      "1      276726,0155061224,5\n",
      "2      276727,0446520802,0\n",
      "3      276729,052165615X,3\n",
      "4      276729,0521795028,6\n"
     ]
    }
   ],
   "source": [
    "users = pd.read_csv(\"../data/Users.csv\", sep=\";\", on_bad_lines=\"skip\", encoding=\"latin-1\")\n",
    "books = pd.read_csv(\"../data/Books.csv\", sep=\";\", on_bad_lines=\"skip\", encoding=\"latin-1\")\n",
    "ratings = pd.read_csv(\"../data/Ratings.csv\", sep=\";\", on_bad_lines=\"skip\", encoding=\"latin-1\")\n",
    "\n",
    "print(\"Users shape:\", users.shape)\n",
    "print(\"Books shape:\", books.shape)\n",
    "print(\"Ratings shape:\", ratings.shape)\n",
    "\n",
    "print(ratings.head())"
   ]
  },
  {
   "cell_type": "code",
   "execution_count": 15,
   "id": "9933da40",
   "metadata": {},
   "outputs": [
    {
     "name": "stdout",
     "output_type": "stream",
     "text": [
      "Users columns: ['User-ID,Location,Age']\n",
      "Books columns: ['ISBN,Book-Title,Book-Author,Year-Of-Publication,Publisher,Image-URL-S,Image-URL-M,Image-URL-L']\n",
      "Ratings columns: ['User-ID,ISBN,Book-Rating']\n"
     ]
    }
   ],
   "source": [
    "print(\"Users columns:\", users.columns.tolist())\n",
    "print(\"Books columns:\", books.columns.tolist())\n",
    "print(\"Ratings columns:\", ratings.columns.tolist())"
   ]
  },
  {
   "cell_type": "code",
   "execution_count": 19,
   "id": "e31a96da",
   "metadata": {},
   "outputs": [],
   "source": [
    "users = pd.read_csv(\"../data/Users.csv\", sep=\",\", encoding=\"latin-1\", on_bad_lines=\"skip\")\n",
    "books = pd.read_csv(\"../data/Books.csv\", sep=\",\", encoding=\"latin-1\", on_bad_lines=\"skip\", low_memory=False)\n",
    "ratings = pd.read_csv(\"../data/Ratings.csv\", sep=\",\", encoding=\"latin-1\", on_bad_lines=\"skip\")"
   ]
  },
  {
   "cell_type": "code",
   "execution_count": 20,
   "id": "4fca6e3a",
   "metadata": {},
   "outputs": [],
   "source": [
    "users = users[[\"User-ID\", \"Location\", \"Age\"]]\n",
    "books = books[[\"ISBN\", \"Book-Title\", \"Book-Author\", \"Year-Of-Publication\", \"Publisher\"]]\n",
    "ratings = ratings[[\"User-ID\", \"ISBN\", \"Book-Rating\"]]"
   ]
  },
  {
   "cell_type": "code",
   "execution_count": 21,
   "id": "0e8ef161",
   "metadata": {},
   "outputs": [],
   "source": [
    "ratings = ratings[ratings[\"Book-Rating\"] > 0]"
   ]
  },
  {
   "cell_type": "code",
   "execution_count": 22,
   "id": "90d04a57",
   "metadata": {},
   "outputs": [],
   "source": [
    "df = ratings.merge(books, on=\"ISBN\", how=\"inner\")"
   ]
  },
  {
   "cell_type": "code",
   "execution_count": 23,
   "id": "73298587",
   "metadata": {},
   "outputs": [],
   "source": [
    "user_ids = df[\"User-ID\"].unique().tolist()\n",
    "book_ids = df[\"ISBN\"].unique().tolist()"
   ]
  },
  {
   "cell_type": "code",
   "execution_count": 24,
   "id": "f3aa4e58",
   "metadata": {},
   "outputs": [],
   "source": [
    "user2idx = {u: i for i, u in enumerate(user_ids)}\n",
    "book2idx = {b: i for i, b in enumerate(book_ids)}\n",
    "\n",
    "df[\"user\"] = df[\"User-ID\"].map(user2idx)\n",
    "df[\"item\"] = df[\"ISBN\"].map(book2idx)"
   ]
  },
  {
   "cell_type": "code",
   "execution_count": 25,
   "id": "b47d2547",
   "metadata": {},
   "outputs": [],
   "source": [
    "X = df[[\"user\", \"item\"]].values\n",
    "y = df[\"Book-Rating\"].values"
   ]
  },
  {
   "cell_type": "code",
   "execution_count": 26,
   "id": "b6c8cf37",
   "metadata": {},
   "outputs": [],
   "source": [
    "X_train, X_test, y_train, y_test = train_test_split(X, y, test_size=0.2, random_state=42)"
   ]
  },
  {
   "cell_type": "code",
   "execution_count": 27,
   "id": "327e8afa",
   "metadata": {},
   "outputs": [
    {
     "name": "stdout",
     "output_type": "stream",
     "text": [
      "Unique users: 68091  | Unique books: 149836\n"
     ]
    }
   ],
   "source": [
    "num_users = len(user2idx)\n",
    "num_items = len(book2idx)\n",
    "\n",
    "print(\"Unique users:\", num_users, \" | Unique books:\", num_items)"
   ]
  },
  {
   "cell_type": "code",
   "execution_count": 28,
   "id": "37126b1b",
   "metadata": {},
   "outputs": [
    {
     "name": "stdout",
     "output_type": "stream",
     "text": [
      "WARNING:tensorflow:From C:\\Users\\DEVASISH\\anaconda3\\lib\\site-packages\\keras\\src\\backend.py:1398: The name tf.executing_eagerly_outside_functions is deprecated. Please use tf.compat.v1.executing_eagerly_outside_functions instead.\n",
      "\n",
      "Model: \"model\"\n",
      "__________________________________________________________________________________________________\n",
      " Layer (type)                Output Shape                 Param #   Connected to                  \n",
      "==================================================================================================\n",
      " user (InputLayer)           [(None, 1)]                  0         []                            \n",
      "                                                                                                  \n",
      " item (InputLayer)           [(None, 1)]                  0         []                            \n",
      "                                                                                                  \n",
      " embedding (Embedding)       (None, 1, 50)                3404550   ['user[0][0]']                \n",
      "                                                                                                  \n",
      " embedding_1 (Embedding)     (None, 1, 50)                7491800   ['item[0][0]']                \n",
      "                                                                                                  \n",
      " flatten (Flatten)           (None, 50)                   0         ['embedding[0][0]']           \n",
      "                                                                                                  \n",
      " flatten_1 (Flatten)         (None, 50)                   0         ['embedding_1[0][0]']         \n",
      "                                                                                                  \n",
      " concatenate (Concatenate)   (None, 100)                  0         ['flatten[0][0]',             \n",
      "                                                                     'flatten_1[0][0]']           \n",
      "                                                                                                  \n",
      " dense (Dense)               (None, 128)                  12928     ['concatenate[0][0]']         \n",
      "                                                                                                  \n",
      " dense_1 (Dense)             (None, 64)                   8256      ['dense[0][0]']               \n",
      "                                                                                                  \n",
      " dense_2 (Dense)             (None, 1)                    65        ['dense_1[0][0]']             \n",
      "                                                                                                  \n",
      "==================================================================================================\n",
      "Total params: 10917599 (41.65 MB)\n",
      "Trainable params: 10917599 (41.65 MB)\n",
      "Non-trainable params: 0 (0.00 Byte)\n",
      "__________________________________________________________________________________________________\n"
     ]
    }
   ],
   "source": [
    "def build_model(num_users, num_items, embedding_size=50):\n",
    "    user_input = layers.Input(shape=(1,), name=\"user\")\n",
    "    item_input = layers.Input(shape=(1,), name=\"item\")\n",
    "\n",
    "    user_embedding = layers.Embedding(num_users, embedding_size)(user_input)\n",
    "    item_embedding = layers.Embedding(num_items, embedding_size)(item_input)\n",
    "\n",
    "    user_vec = layers.Flatten()(user_embedding)\n",
    "    item_vec = layers.Flatten()(item_embedding)\n",
    "\n",
    "    concat = layers.Concatenate()([user_vec, item_vec])\n",
    "    dense1 = layers.Dense(128, activation=\"relu\")(concat)\n",
    "    dense2 = layers.Dense(64, activation=\"relu\")(dense1)\n",
    "    output = layers.Dense(1, activation=\"linear\")(dense2)\n",
    "\n",
    "    model = keras.Model(inputs=[user_input, item_input], outputs=output)\n",
    "    model.compile(optimizer=keras.optimizers.Adam(0.001), loss=\"mse\", metrics=[\"mae\"])\n",
    "    return model\n",
    "\n",
    "model = build_model(num_users, num_items, embedding_size=50)\n",
    "model.summary()"
   ]
  },
  {
   "cell_type": "code",
   "execution_count": 29,
   "id": "1ff28230",
   "metadata": {},
   "outputs": [
    {
     "name": "stdout",
     "output_type": "stream",
     "text": [
      "Epoch 1/10\n",
      "WARNING:tensorflow:From C:\\Users\\DEVASISH\\anaconda3\\lib\\site-packages\\keras\\src\\utils\\tf_utils.py:492: The name tf.ragged.RaggedTensorValue is deprecated. Please use tf.compat.v1.ragged.RaggedTensorValue instead.\n",
      "\n",
      "WARNING:tensorflow:From C:\\Users\\DEVASISH\\anaconda3\\lib\\site-packages\\keras\\src\\engine\\base_layer_utils.py:384: The name tf.executing_eagerly_outside_functions is deprecated. Please use tf.compat.v1.executing_eagerly_outside_functions instead.\n",
      "\n",
      "1200/1200 [==============================] - 112s 91ms/step - loss: 4.7441 - mae: 1.5491 - val_loss: 2.6568 - val_mae: 1.2549\n",
      "Epoch 2/10\n",
      "1200/1200 [==============================] - 104s 87ms/step - loss: 2.0286 - mae: 1.0725 - val_loss: 2.7381 - val_mae: 1.2795\n",
      "Epoch 3/10\n",
      "1200/1200 [==============================] - 101s 84ms/step - loss: 1.5137 - mae: 0.8988 - val_loss: 2.9510 - val_mae: 1.3229\n",
      "Epoch 4/10\n",
      "1200/1200 [==============================] - 2038s 2s/step - loss: 1.1316 - mae: 0.7700 - val_loss: 3.0046 - val_mae: 1.3290\n",
      "Epoch 5/10\n",
      "1200/1200 [==============================] - 110s 91ms/step - loss: 0.8373 - mae: 0.6644 - val_loss: 3.0763 - val_mae: 1.3486\n",
      "Epoch 6/10\n",
      "1200/1200 [==============================] - 109s 91ms/step - loss: 0.6229 - mae: 0.5776 - val_loss: 3.1655 - val_mae: 1.3745\n",
      "Epoch 7/10\n",
      "1200/1200 [==============================] - 109s 91ms/step - loss: 0.4775 - mae: 0.5114 - val_loss: 3.1189 - val_mae: 1.3563\n",
      "Epoch 8/10\n",
      "1200/1200 [==============================] - 107s 89ms/step - loss: 0.3731 - mae: 0.4550 - val_loss: 3.1877 - val_mae: 1.3740\n",
      "Epoch 9/10\n",
      "1200/1200 [==============================] - 105s 88ms/step - loss: 0.3043 - mae: 0.4123 - val_loss: 3.1962 - val_mae: 1.3757\n",
      "Epoch 10/10\n",
      "1200/1200 [==============================] - 105s 88ms/step - loss: 0.2561 - mae: 0.3797 - val_loss: 3.1585 - val_mae: 1.3646\n"
     ]
    }
   ],
   "source": [
    "history = model.fit(\n",
    "    [X_train[:,0], X_train[:,1]],\n",
    "    y_train,\n",
    "    validation_data=([X_test[:,0], X_test[:,1]], y_test),\n",
    "    epochs=10,       # start with 10 epochs to test, increase later\n",
    "    batch_size=256,\n",
    "    verbose=1\n",
    ")"
   ]
  },
  {
   "cell_type": "code",
   "execution_count": 30,
   "id": "066d1ec1",
   "metadata": {},
   "outputs": [
    {
     "name": "stdout",
     "output_type": "stream",
     "text": [
      "2400/2400 [==============================] - 5s 2ms/step\n",
      "Test RMSE: 1.7772257951209383\n"
     ]
    }
   ],
   "source": [
    "y_pred = model.predict([X_test[:,0], X_test[:,1]]).flatten()\n",
    "\n",
    "rmse = np.sqrt(np.mean((y_test - y_pred) ** 2))\n",
    "print(\"Test RMSE:\", rmse)"
   ]
  },
  {
   "cell_type": "code",
   "execution_count": 31,
   "id": "69d52ed2",
   "metadata": {},
   "outputs": [
    {
     "data": {
      "image/png": "[encoded data removed]",
      "text/plain": [
       "<Figure size 432x288 with 1 Axes>"
      ]
     },
     "metadata": {
      "needs_background": "light"
     },
     "output_type": "display_data"
    }
   ],
   "source": [
    "# Plot training\n",
    "plt.plot(history.history[\"loss\"], label=\"Train Loss\")\n",
    "plt.plot(history.history[\"val_loss\"], label=\"Val Loss\")\n",
    "plt.legend()\n",
    "plt.title(\"Training Curve\")\n",
    "plt.show()"
   ]
  },
  {
   "cell_type": "code",
   "execution_count": 32,
   "id": "e5a90d40",
   "metadata": {},
   "outputs": [
    {
     "name": "stderr",
     "output_type": "stream",
     "text": [
      "C:\\Users\\DEVASISH\\anaconda3\\lib\\site-packages\\keras\\src\\engine\\training.py:3103: UserWarning: You are saving your model as an HDF5 file via `model.save()`. This file format is considered legacy. We recommend using instead the native Keras format, e.g. `model.save('my_model.keras')`.\n",
      "  saving_api.save_model(\n"
     ]
    },
    {
     "name": "stdout",
     "output_type": "stream",
     "text": [
      "✅ Model saved as recommender_model.h5\n"
     ]
    }
   ],
   "source": [
    "model.save(\"../recommender_model.h5\")\n",
    "print(\"✅ Model saved as recommender_model.h5\")"
   ]
  },
  {
   "cell_type": "code",
   "execution_count": null,
   "id": "3ff2ac99",
   "metadata": {},
   "outputs": [],
   "source": []
  }
 ],
 "metadata": {
  "kernelspec": {
   "display_name": "Python 3 (ipykernel)",
   "language": "python",
   "name": "python3"
  },
  "language_info": {
   "codemirror_mode": {
    "name": "ipython",
    "version": 3
   },
   "file_extension": ".py",
   "mimetype": "text/x-python",
   "name": "python",
   "nbconvert_exporter": "python",
   "pygments_lexer": "ipython3",
   "version": "3.9.7"
  }
 },
 "nbformat": 4,
 "nbformat_minor": 5
}
